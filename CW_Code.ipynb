{
  "nbformat": 4,
  "nbformat_minor": 0,
  "metadata": {
    "colab": {
      "provenance": [],
      "authorship_tag": "ABX9TyOU5QpkIdKzylgpkULXXoft",
      "include_colab_link": true
    },
    "kernelspec": {
      "name": "python3",
      "display_name": "Python 3"
    },
    "language_info": {
      "name": "python"
    }
  },
  "cells": [
    {
      "cell_type": "markdown",
      "metadata": {
        "id": "view-in-github",
        "colab_type": "text"
      },
      "source": [
        "<a href=\"https://colab.research.google.com/github/AbdulSheffa/Spam-email/blob/main/CW_Code.ipynb\" target=\"_parent\"><img src=\"https://colab.research.google.com/assets/colab-badge.svg\" alt=\"Open In Colab\"/></a>"
      ]
    },
    {
      "cell_type": "markdown",
      "source": [
        "**Importing necessary Libraries required**\n"
      ],
      "metadata": {
        "id": "YyLtsU509jX7"
      }
    },
    {
      "cell_type": "code",
      "execution_count": 42,
      "metadata": {
        "id": "nSVsqkJP5wEj"
      },
      "outputs": [],
      "source": [
        "import pandas as pd\n",
        "import numpy as np\n",
        "import matplotlib.pyplot as plt\n",
        "from sklearn.preprocessing import StandardScaler\n",
        "from sklearn.metrics import accuracy_score\n",
        "import csv\n",
        "import seaborn as sns\n",
        "%matplotlib inline\n"
      ]
    },
    {
      "cell_type": "markdown",
      "source": [
        "**Loading the dataset**"
      ],
      "metadata": {
        "id": "BqGFn5ms942T"
      }
    },
    {
      "cell_type": "code",
      "source": [
        "dataset = pd.read_csv('spambase.data')"
      ],
      "metadata": {
        "id": "eg292fIA6Cpo"
      },
      "execution_count": 43,
      "outputs": []
    },
    {
      "cell_type": "code",
      "source": [
        "dataset"
      ],
      "metadata": {
        "id": "wfk9cjC66pwV"
      },
      "execution_count": null,
      "outputs": []
    },
    {
      "cell_type": "markdown",
      "source": [
        "**Inserting the column names for the data set as per the instructions **\n",
        "\n",
        "---\n",
        "\n",
        "\n"
      ],
      "metadata": {
        "id": "HIHyfFMxrA8I"
      }
    },
    {
      "cell_type": "code",
      "source": [
        "dataset.info()"
      ],
      "metadata": {
        "id": "dMeoxaq9U8Ip"
      },
      "execution_count": null,
      "outputs": []
    },
    {
      "cell_type": "code",
      "source": [
        "dataset.columns = ['word_freq_make','word_freq_address','word_freq_all','word_freq_3d','word_freq_our','word_freq_over','word_freq_remove','word_freq_internet','word_freq_order','word_freq_mail','word_freq_receive','word_freq_will','word_freq_people','word_freq_report','word_freq_addresses','word_freq_free','word_freq_business','word_freq_email','word_freq_you','word_freq_credit','word_freq_your','word_freq_font','word_freq_000','word_freq_money','word_freq_hp','word_freq_hpl','word_freq_george','word_freq_650','word_freq_lab','word_freq_labs','word_freq_telnet','word_freq_857','word_freq_data','word_freq_415','word_freq_85','word_freq_technology','word_freq_1999','word_freq_parts','word_freq_pm','word_freq_direct','word_freq_cs','word_freq_meeting','word_freq_original','word_freq_project','word_freq_re','word_freq_edu','word_freq_table','word_freq_conference','char_freq_;','char_freq_(','char_freq_[','char_freq_!','char_freq_$','char_freq_#','capital_run_length_average','capital_run_length_longest','capital_run_length_total','class']\n",
        "dataset\n",
        "\n"
      ],
      "metadata": {
        "id": "oftkoWqf8voO"
      },
      "execution_count": null,
      "outputs": []
    },
    {
      "cell_type": "code",
      "source": [
        "dataset.head()"
      ],
      "metadata": {
        "id": "4nTolWf4rST2"
      },
      "execution_count": null,
      "outputs": []
    },
    {
      "cell_type": "markdown",
      "source": [
        "**Getting the sum of all the null values for each column**"
      ],
      "metadata": {
        "id": "ke_JLYV4-LRd"
      }
    },
    {
      "cell_type": "code",
      "source": [
        "dataset.isna().sum()"
      ],
      "metadata": {
        "id": "ibMZsnt2ghEi"
      },
      "execution_count": null,
      "outputs": []
    },
    {
      "cell_type": "code",
      "source": [
        "dataset = dataset.drop_duplicates()"
      ],
      "metadata": {
        "id": "DzOkQIE2Gvcj"
      },
      "execution_count": 48,
      "outputs": []
    },
    {
      "cell_type": "code",
      "source": [
        "dataset.shape"
      ],
      "metadata": {
        "id": "PErBME2ErXQi"
      },
      "execution_count": null,
      "outputs": []
    },
    {
      "cell_type": "code",
      "source": [
        "dataset.describe()"
      ],
      "metadata": {
        "id": "zrUXO6nS-Twa"
      },
      "execution_count": null,
      "outputs": []
    },
    {
      "cell_type": "markdown",
      "source": [
        "**Removing the target variable**"
      ],
      "metadata": {
        "id": "mwg5FJvk-cn3"
      }
    },
    {
      "cell_type": "code",
      "source": [
        "# class column contains the detail if the email is spam or not. 1 indicates spam while 0 indicates no-spam\n",
        "remove_class = dataset.drop(columns=['class'])"
      ],
      "metadata": {
        "id": "qIicxTM0tUBq"
      },
      "execution_count": 51,
      "outputs": []
    },
    {
      "cell_type": "code",
      "source": [
        "remove_class.describe()"
      ],
      "metadata": {
        "id": "kgLx8i4LOCZ4"
      },
      "execution_count": null,
      "outputs": []
    },
    {
      "cell_type": "markdown",
      "source": [
        "**Seperating the target values**"
      ],
      "metadata": {
        "id": "Maz5QDq5_aHB"
      }
    },
    {
      "cell_type": "code",
      "source": [
        "class_column = dataset['class'].values\n",
        "\n",
        "\n",
        "class_column[0:5]"
      ],
      "metadata": {
        "id": "tCFlOg58tqYH"
      },
      "execution_count": null,
      "outputs": []
    },
    {
      "cell_type": "code",
      "source": [
        "Scaler = StandardScaler()\n",
        "new_data = Scaler.fit_transform(remove_class)\n",
        "new_dataset = pd.DataFrame(data=new_data, columns=remove_class.columns)\n",
        "new_dataset"
      ],
      "metadata": {
        "id": "EaBwdTq8j5cL"
      },
      "execution_count": null,
      "outputs": []
    },
    {
      "cell_type": "code",
      "source": [
        "new_dataset.describe()"
      ],
      "metadata": {
        "id": "YQrM4eNoAFC8"
      },
      "execution_count": null,
      "outputs": []
    },
    {
      "cell_type": "markdown",
      "source": [
        "**Principal Component Analysis**"
      ],
      "metadata": {
        "id": "re58YFdhALs_"
      }
    },
    {
      "cell_type": "code",
      "source": [
        "from sklearn.decomposition import PCA"
      ],
      "metadata": {
        "id": "TUzXUqWVk99s"
      },
      "execution_count": 56,
      "outputs": []
    },
    {
      "cell_type": "code",
      "source": [
        "principal_component_analysis = PCA()\n",
        "principal_components = principal_component_analysis.fit_transform(new_dataset)\n",
        "plt.figure()\n",
        "plt.plot(np.cumsum(principal_component_analysis.explained_variance_ratio_))\n",
        "plt.xlabel('Number of Components')\n",
        "plt.ylabel('Variance (%)') #for each component\n",
        "plt.title('Explained Variance')\n",
        "plt.show()"
      ],
      "metadata": {
        "id": "CE7ez1PBk_iP"
      },
      "execution_count": null,
      "outputs": []
    },
    {
      "cell_type": "code",
      "source": [
        "# it is visible that 90% of variance is observed between 40 to 50 number of principal components\n",
        "principal_component_analysis = PCA(n_components=45)\n",
        "final_data = principal_component_analysis.fit_transform(new_dataset)\n",
        "principal_data = pd.DataFrame(data=final_data, columns=['PC1','PC2','PC3','PC4','PC5','PC6','PC7','PC8','PC9',\n",
        "                                                        'PC10','PC11','PC12','PC13','PC14','PC15','PC16','PC17','PC18',\n",
        "                                                        'PC19','PC20','PC21','PC22','PC23','PC24','PC25','PC26','PC27',\n",
        "                                                        'PC28','PC29','PC30','PC31','PC32','PC33','PC34','PC35','PC36',\n",
        "                                                        'PC37','PC38','PC39','PC40','PC41','PC42','PC43','PC44','PC45'])\n",
        "principal_data\n"
      ],
      "metadata": {
        "id": "DkXgIxn5EIPG"
      },
      "execution_count": null,
      "outputs": []
    },
    {
      "cell_type": "code",
      "source": [
        "x_set = principal_data.iloc[:,0:45].values\n",
        "y_set = dataset.iloc[:,57].values"
      ],
      "metadata": {
        "id": "oanjAc-NneBM"
      },
      "execution_count": 59,
      "outputs": []
    },
    {
      "cell_type": "markdown",
      "source": [
        "**Training the KNN model**"
      ],
      "metadata": {
        "id": "VuE8b9pCE9vC"
      }
    },
    {
      "cell_type": "code",
      "source": [
        "from sklearn.model_selection import train_test_split\n",
        "x_train, x_test, y_train, y_test = train_test_split(x_set,y_set, test_size=0.30, random_state=42)\n",
        "print(f\"X Training: {x_train}\\n X Test: {x_test}\\n Y Train: {y_train}\\n Y Test: {y_test}\")"
      ],
      "metadata": {
        "id": "gyD7SD4SrdHl"
      },
      "execution_count": null,
      "outputs": []
    },
    {
      "cell_type": "code",
      "source": [
        "# feature scalling\n",
        "featureScalling = StandardScaler()\n",
        "x_train = featureScalling.fit_transform(x_train)\n",
        "x_test = featureScalling.transform(x_test)"
      ],
      "metadata": {
        "id": "Kyrt53VhotiF"
      },
      "execution_count": 61,
      "outputs": []
    },
    {
      "cell_type": "code",
      "source": [
        "# fitting the classifier to the training set\n",
        "# k is considered as 5\n",
        "from sklearn.neighbors import KNeighborsClassifier\n",
        "classifier = KNeighborsClassifier(n_neighbors=5, metric='minkowski', p=2)\n",
        "classifier.fit(x_train,y_train)"
      ],
      "metadata": {
        "id": "KjDqbUespRLC"
      },
      "execution_count": null,
      "outputs": []
    },
    {
      "cell_type": "code",
      "source": [
        "#predicting test results\n",
        "predicted_y = classifier.predict(x_test)"
      ],
      "metadata": {
        "id": "R-OP5Eh4pydL"
      },
      "execution_count": 63,
      "outputs": []
    },
    {
      "cell_type": "markdown",
      "source": [
        "**Classification report for the KNN model**"
      ],
      "metadata": {
        "id": "S1f8M3ZxFaxd"
      }
    },
    {
      "cell_type": "code",
      "source": [
        "from sklearn.metrics import classification_report\n",
        "print(\"Below is the classifcation report: \")\n",
        "print(classification_report(y_test,predicted_y))"
      ],
      "metadata": {
        "id": "IzbXzqi-FV-d"
      },
      "execution_count": null,
      "outputs": []
    },
    {
      "cell_type": "code",
      "source": [
        "from sklearn.metrics import confusion_matrix\n",
        "ConfusionMatrix = confusion_matrix(y_test, predicted_y)\n",
        "ConfusionMatrix"
      ],
      "metadata": {
        "id": "pWY9HOYrPzmg"
      },
      "execution_count": null,
      "outputs": []
    },
    {
      "cell_type": "markdown",
      "source": [
        "**Visualizing the confusion Matrix**"
      ],
      "metadata": {
        "id": "788TtDO2FFQF"
      }
    },
    {
      "cell_type": "code",
      "source": [
        "import seaborn as sns\n",
        "\n",
        "Matrix = confusion_matrix(y_test, predicted_y)\n",
        "sns.heatmap(Matrix.T, square=True, annot=True, fmt='d', cbar=False)\n",
        "\n",
        "plt.title('Confusion matrix')\n",
        "plt.xlabel('true class')\n",
        "plt.ylabel('predicted class')"
      ],
      "metadata": {
        "id": "Xq3gdw2HP-5c"
      },
      "execution_count": null,
      "outputs": []
    },
    {
      "cell_type": "markdown",
      "source": [
        "**Accuracy of the model in %**"
      ],
      "metadata": {
        "id": "yRs_ceBlEXOu"
      }
    },
    {
      "cell_type": "code",
      "source": [
        "from sklearn.metrics import accuracy_score\n",
        "print(\"Using KNN model the accuracy is : \",accuracy_score(predicted_y,y_test)*100)"
      ],
      "metadata": {
        "id": "BfbCrvHhQWf9"
      },
      "execution_count": null,
      "outputs": []
    },
    {
      "cell_type": "markdown",
      "source": [
        "**Decision Tree**"
      ],
      "metadata": {
        "id": "Ol1RppjN-t59"
      }
    },
    {
      "cell_type": "code",
      "source": [
        "x_set = principal_data.iloc[:,0:45].values\n",
        "y_set = dataset.iloc[:,57].values"
      ],
      "metadata": {
        "id": "oxqPNWfX-zHk"
      },
      "execution_count": 68,
      "outputs": []
    },
    {
      "cell_type": "code",
      "source": [
        "from sklearn.model_selection import train_test_split\n",
        "x_train, x_test, y_train, y_test = train_test_split(x_set,y_set, test_size=0.30, random_state=42)\n",
        "print(f\"X Training: {x_train}\\n X Test: {x_test}\\n Y Train: {y_train}\\n Y Test: {y_test}\")"
      ],
      "metadata": {
        "id": "6snXT6yw-5zL"
      },
      "execution_count": null,
      "outputs": []
    },
    {
      "cell_type": "code",
      "source": [
        "from sklearn.tree import DecisionTreeClassifier\n",
        "classifier_decision_tree = DecisionTreeClassifier(random_state=45,max_depth=5)\n",
        "classifier_decision_tree.fit(x_train,y_train)"
      ],
      "metadata": {
        "id": "vRRdbQOn_aSn"
      },
      "execution_count": null,
      "outputs": []
    },
    {
      "cell_type": "code",
      "source": [
        "prediction = classifier_decision_tree.predict(x_test)\n",
        "prediction"
      ],
      "metadata": {
        "id": "gwhLAjHjW3vV"
      },
      "execution_count": null,
      "outputs": []
    },
    {
      "cell_type": "code",
      "source": [
        "from sklearn import tree\n",
        "plt.figure(figsize=(15,10))\n",
        "tree.plot_tree(classifier_decision_tree,filled=True)\n",
        "plt.show()"
      ],
      "metadata": {
        "id": "oqDflXYvA_Dc"
      },
      "execution_count": null,
      "outputs": []
    },
    {
      "cell_type": "code",
      "source": [
        "from sklearn.metrics import classification_report\n",
        "print(\"Below is the classifcation report: \")\n",
        "print(classification_report(y_test,prediction))"
      ],
      "metadata": {
        "id": "cYk-gf1dCRfH"
      },
      "execution_count": null,
      "outputs": []
    },
    {
      "cell_type": "code",
      "source": [
        "from sklearn.metrics import confusion_matrix\n",
        "print(\"Below is the confusion matrix: \")\n",
        "Confusion_Matrix = confusion_matrix(y_test, prediction)\n",
        "Confusion_Matrix"
      ],
      "metadata": {
        "id": "uSuQrcbGCrnz"
      },
      "execution_count": null,
      "outputs": []
    },
    {
      "cell_type": "markdown",
      "source": [
        "**Visualizing the confusion matrix**"
      ],
      "metadata": {
        "id": "I_WC3eACDRK9"
      }
    },
    {
      "cell_type": "code",
      "source": [
        "sns.heatmap(Confusion_Matrix.T, square=True, annot=True, fmt='d', cbar=False)\n",
        "plt.title(\"The confusion Matrix\")\n",
        "print(\"\")\n",
        "plt.xlabel(\"True Class\")\n",
        "plt.ylabel(\"Predicted Class\")"
      ],
      "metadata": {
        "id": "7qIJ55LKDQAe"
      },
      "execution_count": null,
      "outputs": []
    },
    {
      "cell_type": "markdown",
      "source": [
        "**Accuracy of the model in %**"
      ],
      "metadata": {
        "id": "HJUtL4pFEQbe"
      }
    },
    {
      "cell_type": "code",
      "source": [
        "from sklearn.metrics import accuracy_score\n",
        "print(\"Using Decision Trees model the accuracy is : \",accuracy_score(prediction,y_test)*100)"
      ],
      "metadata": {
        "id": "qCovdqEpEP7K"
      },
      "execution_count": null,
      "outputs": []
    }
  ]
}